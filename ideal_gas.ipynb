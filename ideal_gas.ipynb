{
 "cells": [
  {
   "cell_type": "code",
   "execution_count": 254,
   "metadata": {},
   "outputs": [],
   "source": [
    "import numpy as np\n",
    "import matplotlib.pyplot as plt\n",
    "from matplotlib import animation\n",
    "from itertools import combinations"
   ]
  },
  {
   "cell_type": "code",
   "execution_count": 255,
   "metadata": {},
   "outputs": [],
   "source": [
    "# How many particles we simulate\n",
    "NUM_PARTICLES = 200\n",
    "# Max particle starting speed in m/s\n",
    "SPEED = 25"
   ]
  },
  {
   "cell_type": "code",
   "execution_count": 256,
   "metadata": {},
   "outputs": [],
   "source": [
    "# ID for each particle\n",
    "ids = np.arange(NUM_PARTICLES)\n",
    "\n",
    "# Initialise with random starting positions between 0 and 1\n",
    "# startx = np.random.random(NUM_PARTICLES)\n",
    "# starty = np.random.random(NUM_PARTICLES)\n",
    "pos = np.random.random((2, NUM_PARTICLES))\n",
    "\n",
    "# Initialise random starting velocities, between -SPEED and SPEED\n",
    "# vx = (np.random.random(NUM_PARTICLES) - 0.5) * SPEED * 2\n",
    "# vy = (np.random.random(NUM_PARTICLES) - 0.5) * SPEED * 2\n",
    "vs = (np.random.random((2, NUM_PARTICLES)) - 0.5) * SPEED * 2\n",
    "\n",
    "\n",
    "# Particles on the right will be coloured red, on the left will be blue\n",
    "red = pos[0] > 0.5\n",
    "blue = pos[0] <= 0.5"
   ]
  },
  {
   "cell_type": "code",
   "execution_count": 257,
   "metadata": {},
   "outputs": [],
   "source": [
    "def show(pos, ax):\n",
    "    ax.scatter(pos[0][red], pos[1][red], color='r', s=6)\n",
    "    ax.scatter(pos[0][blue], pos[1][blue], color='b', s=6)\n",
    "# plt.show()"
   ]
  },
  {
   "cell_type": "code",
   "execution_count": 258,
   "metadata": {},
   "outputs": [],
   "source": [
    "def step(pos, v, dt=0.001):\n",
    "    pos = pos + v * dt\n",
    "    # EDGE COLLISION\n",
    "    v[0, pos[0] > 1] = -np.abs(v[0, pos[0] > 1])\n",
    "    v[0, pos[0] < 0] = np.abs(v[0, pos[0] < 0])\n",
    "\n",
    "    v[1, pos[1] > 1] = -np.abs(v[1, pos[1] > 1])\n",
    "    v[1, pos[1] < 0] = np.abs(v[1, pos[1] < 0])\n",
    " \n",
    "    return pos, v\n",
    "\n",
    "\n",
    "FRAMES = 1000\n",
    "\n",
    "positions = np.zeros((FRAMES, 2, NUM_PARTICLES))\n",
    "velocities = np.zeros((FRAMES, 2,NUM_PARTICLES))\n",
    "\n",
    "for i in range(FRAMES):\n",
    "    positions[i] = pos.copy()\n",
    "    velocities[i] = vs.copy()\n",
    "    pos, vs = step(pos, vs)"
   ]
  },
  {
   "cell_type": "code",
   "execution_count": 259,
   "metadata": {},
   "outputs": [
    {
     "data": {
      "image/png": "[encoded data removed]",
      "text/plain": [
       "<Figure size 500x500 with 1 Axes>"
      ]
     },
     "metadata": {},
     "output_type": "display_data"
    }
   ],
   "source": [
    "fig, ax = plt.subplots(1,1,figsize=(5,5))\n",
    "def animate(i):\n",
    "    ax.clear()\n",
    "    p = positions[i]\n",
    "    show(p, ax)\n",
    "    ax.set_xlim(0,1)\n",
    "    ax.set_ylim(0,1)\n",
    "\n",
    "ani = animation.FuncAnimation(fig, animate, frames=500, interval=20)\n",
    "ani.save('test3.gif', writer='pillow', fps=30, dpi=100)"
   ]
  },
  {
   "cell_type": "code",
   "execution_count": 260,
   "metadata": {},
   "outputs": [
    {
     "ename": "TypeError",
     "evalue": "show() missing 2 required positional arguments: 'pos' and 'ax'",
     "output_type": "error",
     "traceback": [
      "\u001b[1;31m---------------------------------------------------------------------------\u001b[0m",
      "\u001b[1;31mTypeError\u001b[0m                                 Traceback (most recent call last)",
      "Cell \u001b[1;32mIn[260], line 2\u001b[0m\n\u001b[0;32m      1\u001b[0m pos, vs \u001b[38;5;241m=\u001b[39m step(pos, vs, dt\u001b[38;5;241m=\u001b[39m\u001b[38;5;241m0.001\u001b[39m)\n\u001b[1;32m----> 2\u001b[0m \u001b[43mshow\u001b[49m\u001b[43m(\u001b[49m\u001b[43m)\u001b[49m\n",
      "\u001b[1;31mTypeError\u001b[0m: show() missing 2 required positional arguments: 'pos' and 'ax'"
     ]
    }
   ],
   "source": [
    "pos, vs = step(pos, vs, dt=0.001)\n",
    "show()"
   ]
  },
  {
   "cell_type": "code",
   "execution_count": null,
   "metadata": {},
   "outputs": [],
   "source": [
    "animation.PillowWriter()"
   ]
  }
 ],
 "metadata": {
  "kernelspec": {
   "display_name": "Python 3",
   "language": "python",
   "name": "python3"
  },
  "language_info": {
   "codemirror_mode": {
    "name": "ipython",
    "version": 3
   },
   "file_extension": ".py",
   "mimetype": "text/x-python",
   "name": "python",
   "nbconvert_exporter": "python",
   "pygments_lexer": "ipython3",
   "version": "3.11.8"
  }
 },
 "nbformat": 4,
 "nbformat_minor": 2
}
